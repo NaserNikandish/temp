{
 "cells": [
  {
   "cell_type": "markdown",
   "id": "6d244982",
   "metadata": {},
   "source": [
    "# Creating a DataFrame from a Dictionary of Lists"
   ]
  },
  {
   "cell_type": "code",
   "execution_count": 1,
   "id": "fabfb119",
   "metadata": {},
   "outputs": [
    {
     "name": "stdout",
     "output_type": "stream",
     "text": [
      "      Name  Age       City\n",
      "0   Jackie   25   New York\n",
      "1      Bob   20  Baltimore\n",
      "2  Charles   35         DC\n",
      "3    Diana   27    Chicago\n"
     ]
    }
   ],
   "source": [
    "\n",
    "import pandas as pd\n",
    "\n",
    "# Create a dictionary of lists\n",
    "data = {\n",
    "    \"Name\": [\"Jackie\", \"Bob\", \"Charles\", \"Diana\"],\n",
    "    \"Age\": [25, 20, 35, 27],\n",
    "    \"City\": [\"New York\", \"Baltimore\", \"DC\", \"Chicago\"]\n",
    "}\n",
    "\n",
    "# Convert dictionary to DataFrame\n",
    "df = pd.DataFrame(data)\n",
    "\n",
    "# Display the DataFrame\n",
    "print(df)\n",
    "    "
   ]
  },
  {
   "cell_type": "code",
   "execution_count": null,
   "id": "82704abd-495c-46f8-80f8-f1ed3a21a988",
   "metadata": {},
   "outputs": [],
   "source": []
  }
 ],
 "metadata": {
  "kernelspec": {
   "display_name": "Python 3 (ipykernel)",
   "language": "python",
   "name": "python3"
  },
  "language_info": {
   "codemirror_mode": {
    "name": "ipython",
    "version": 3
   },
   "file_extension": ".py",
   "mimetype": "text/x-python",
   "name": "python",
   "nbconvert_exporter": "python",
   "pygments_lexer": "ipython3",
   "version": "3.12.4"
  }
 },
 "nbformat": 4,
 "nbformat_minor": 5
}
