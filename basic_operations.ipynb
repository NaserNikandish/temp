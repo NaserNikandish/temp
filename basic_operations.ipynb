{
 "cells": [
  {
   "cell_type": "markdown",
   "id": "f5d94b24",
   "metadata": {},
   "source": [
    "# Basic DataFrame Operations"
   ]
  },
  {
   "cell_type": "code",
   "execution_count": null,
   "id": "abf54784",
   "metadata": {},
   "outputs": [],
   "source": [
    "import pandas as pd\n",
    "\n",
    "# Create a sample DataFrame\n",
    "data = {\n",
    "    \"Product\": [\"Apples\", \"Bananas\", \"Cherries\", \"Dates\"],\n",
    "    \"Price\": [3.5, 2.0, 4.0, 5.5],\n",
    "    \"Quantity\": [10, 20, 15, 7]\n",
    "}\n",
    "df = pd.DataFrame(data)\n",
    "\n",
    "# Display the DataFrame\n",
    "print(\"Original DataFrame:\")\n",
    "print(df)\n",
    "\n",
    "# Calculate total value for each product\n",
    "df[\"Total Value\"] = df[\"Price\"] * df[\"Quantity\"]\n",
    "print(\"\\nDataFrame with Total Value column:\")\n",
    "print(df)\n",
    "\n",
    "# Get summary statistics\n",
    "print(\"\\nSummary statistics:\")\n",
    "print(df.describe())\n",
    "    "
   ]
  }
 ],
 "metadata": {
  "kernelspec": {
   "display_name": "Python 3 (ipykernel)",
   "language": "python",
   "name": "python3"
  },
  "language_info": {
   "codemirror_mode": {
    "name": "ipython",
    "version": 3
   },
   "file_extension": ".py",
   "mimetype": "text/x-python",
   "name": "python",
   "nbconvert_exporter": "python",
   "pygments_lexer": "ipython3",
   "version": "3.12.4"
  }
 },
 "nbformat": 4,
 "nbformat_minor": 5
}
